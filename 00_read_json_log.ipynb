{
 "cells": [
  {
   "cell_type": "code",
   "execution_count": 1,
   "metadata": {
    "collapsed": true
   },
   "outputs": [],
   "source": [
    "import os\n",
    "import json\n",
    "import re"
   ]
  },
  {
   "cell_type": "code",
   "execution_count": 6,
   "metadata": {
    "collapsed": true
   },
   "outputs": [],
   "source": [
    "folder = os.path.join('data', '17_dec')"
   ]
  },
  {
   "cell_type": "code",
   "execution_count": 3,
   "metadata": {
    "collapsed": true
   },
   "outputs": [],
   "source": [
    "def jsonl_to_json(jsonl_file, folder = 'data'):\n",
    "    log_file = os.path.join(folder, jsonl_file)\n",
    "    log = [json.loads(line.strip()) for line in open(log_file).readlines()]\n",
    "\n",
    "    s = ''.join(['{' + str(item) + '}, ' for item in log])[:-1]\n",
    "    \n",
    "    json_file = jsonl_file[:-1]\n",
    "    with open(os.path.join(folder, json_file), 'w') as jf:\n",
    "        jf.write(json.dumps(s))\n",
    "    print('saved to {}'.format(os.path.join(folder, json_file)))\n",
    "    \n",
    "    #with open(os.path.join(folder, json_file)) as jf:\n",
    "    #    s = json.loads(jf.read())\n",
    "    return log"
   ]
  },
  {
   "cell_type": "code",
   "execution_count": 7,
   "metadata": {
    "collapsed": false,
    "scrolled": false
   },
   "outputs": [
    {
     "name": "stdout",
     "output_type": "stream",
     "text": [
      "saved to data/17_dec/chat_17_dec.json\n"
     ]
    }
   ],
   "source": [
    "log = jsonl_to_json('chat_17_dec.jsonl', folder)"
   ]
  },
  {
   "cell_type": "code",
   "execution_count": 8,
   "metadata": {
    "collapsed": false
   },
   "outputs": [],
   "source": [
    "messages = list(filter(lambda item: item['event'] == 'message', log))"
   ]
  },
  {
   "cell_type": "code",
   "execution_count": 9,
   "metadata": {
    "collapsed": false,
    "scrolled": false
   },
   "outputs": [],
   "source": [
    "# messages[:2]"
   ]
  },
  {
   "cell_type": "code",
   "execution_count": 10,
   "metadata": {
    "collapsed": false
   },
   "outputs": [],
   "source": [
    "texts = [m.get('text', '') for m in messages]"
   ]
  },
  {
   "cell_type": "code",
   "execution_count": 11,
   "metadata": {
    "collapsed": false
   },
   "outputs": [],
   "source": [
    "texts_with_authors = [{'text': m.get('text', ''), 'author' : m.get('from', '').get('peer_id', '')} for m in messages]"
   ]
  },
  {
   "cell_type": "code",
   "execution_count": 12,
   "metadata": {
    "collapsed": true
   },
   "outputs": [],
   "source": [
    "with open(os.path.join(folder, '17_dec_raw.txt'), 'w') as f:\n",
    "    f.write('\\n'.join(texts))"
   ]
  },
  {
   "cell_type": "code",
   "execution_count": 13,
   "metadata": {
    "collapsed": false
   },
   "outputs": [],
   "source": [
    "with open(os.path.join(folder, '17_dec_texts_with_authors_raw.txt'), 'w') as f:\n",
    "    f.write('\\n'.join([str(item) for item in texts_with_authors]))"
   ]
  },
  {
   "cell_type": "code",
   "execution_count": null,
   "metadata": {
    "collapsed": true
   },
   "outputs": [],
   "source": []
  }
 ],
 "metadata": {
  "anaconda-cloud": {},
  "kernelspec": {
   "display_name": "Python [default]",
   "language": "python",
   "name": "python3"
  },
  "language_info": {
   "codemirror_mode": {
    "name": "ipython",
    "version": 3
   },
   "file_extension": ".py",
   "mimetype": "text/x-python",
   "name": "python",
   "nbconvert_exporter": "python",
   "pygments_lexer": "ipython3",
   "version": "3.5.2"
  }
 },
 "nbformat": 4,
 "nbformat_minor": 1
}
