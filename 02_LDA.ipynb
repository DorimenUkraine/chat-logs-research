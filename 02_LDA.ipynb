{
 "cells": [
  {
   "cell_type": "code",
   "execution_count": 5,
   "metadata": {
    "collapsed": true,
    "scrolled": true
   },
   "outputs": [],
   "source": [
    "import os"
   ]
  },
  {
   "cell_type": "code",
   "execution_count": 6,
   "metadata": {
    "collapsed": false,
    "scrolled": false
   },
   "outputs": [],
   "source": [
    "import gensim"
   ]
  },
  {
   "cell_type": "code",
   "execution_count": 7,
   "metadata": {
    "collapsed": true
   },
   "outputs": [],
   "source": [
    "# data_folder = os.path.join('data', '00_dec')\n",
    "data_folder = os.path.join('data', '17_dec')"
   ]
  },
  {
   "cell_type": "code",
   "execution_count": 8,
   "metadata": {
    "collapsed": true
   },
   "outputs": [],
   "source": [
    "lda_folder = 'lda_files'"
   ]
  },
  {
   "cell_type": "code",
   "execution_count": 9,
   "metadata": {
    "collapsed": false,
    "scrolled": true
   },
   "outputs": [],
   "source": [
    "# raw_log_file = os.path.join(data_folder, 'log_dratuti.txt')\n",
    "clean_log_file = os.path.join(data_folder, 'clean_log_dratuti.txt')\n",
    "raw_msgs_file = os.path.join(data_folder, 'raw_msgs.txt')\n",
    "ltrs_only_msgs_file = os.path.join(data_folder, 'ltrs_only_msgs.txt')\n",
    "no_stopwords_msgs_file = os.path.join(data_folder, 'no_stopwords_msgs.txt')\n",
    "normalized_no_stopwords_msgs_file = os.path.join(data_folder, 'normalized_no_stopwords_msgs.txt')"
   ]
  },
  {
   "cell_type": "code",
   "execution_count": 10,
   "metadata": {
    "collapsed": true,
    "scrolled": true
   },
   "outputs": [],
   "source": [
    "def read_msgs(filename):\n",
    "    with open(filename) as lf:\n",
    "        msgs = [line.split() for line in lf.readlines()]\n",
    "    return msgs"
   ]
  },
  {
   "cell_type": "code",
   "execution_count": 11,
   "metadata": {
    "collapsed": false,
    "scrolled": true
   },
   "outputs": [],
   "source": [
    "def get_topic_words(topic_id, model, dictionary):\n",
    "    print('--- topic #{} ---'.format(topic_id))\n",
    "    for word_id, prob in model.get_topic_terms(topic_id):\n",
    "        print(round(prob, 3), '\\t', dictionary.get(word_id))"
   ]
  },
  {
   "cell_type": "code",
   "execution_count": 12,
   "metadata": {
    "collapsed": false,
    "scrolled": true
   },
   "outputs": [],
   "source": [
    "def print_n_topics(n, model, dictionary):\n",
    "    for topic_id in range(n):\n",
    "        get_topic_words(topic_id, model, dictionary)\n",
    "        print()"
   ]
  },
  {
   "cell_type": "markdown",
   "metadata": {},
   "source": [
    "# Just messages"
   ]
  },
  {
   "cell_type": "code",
   "execution_count": 13,
   "metadata": {
    "collapsed": false,
    "scrolled": true
   },
   "outputs": [
    {
     "data": {
      "text/plain": [
       "[['поздравляю'],\n",
       " ['последний', 'день'],\n",
       " ['отсюда'],\n",
       " ['куда'],\n",
       " ['уже', 'не', 'уходишь'],\n",
       " ['х', 'у', 'и', 'т', 'а'],\n",
       " ['чо', 'за', 'хуйня'],\n",
       " ['а', 'н', 'а', 'л', 'и', 'т', 'и', 'к', 'а'],\n",
       " ['voiceru', 'bot', 'глупый', 'глупый'],\n",
       " ['неправильный', 'запрос', 'попробуй', 'еще', 'раз']]"
      ]
     },
     "execution_count": 13,
     "metadata": {},
     "output_type": "execute_result"
    }
   ],
   "source": [
    "msgs = read_msgs(ltrs_only_msgs_file)\n",
    "msgs[:10]"
   ]
  },
  {
   "cell_type": "code",
   "execution_count": 14,
   "metadata": {
    "collapsed": false,
    "scrolled": true
   },
   "outputs": [],
   "source": [
    "dict_ltrs_only = gensim.corpora.Dictionary(msgs)\n",
    "dict_ltrs_only.save(os.path.join(lda_folder, 'dict_msgs_ltrs_only.dict'))\n",
    "\n",
    "corpus_ltrs_only = [dict_ltrs_only.doc2bow(msg) for msg in msgs]\n",
    "gensim.corpora.MmCorpus.serialize(os.path.join(lda_folder, 'corpus_ltrs_only.mm'), corpus_ltrs_only)"
   ]
  },
  {
   "cell_type": "code",
   "execution_count": 15,
   "metadata": {
    "collapsed": false,
    "scrolled": true
   },
   "outputs": [
    {
     "name": "stdout",
     "output_type": "stream",
     "text": [
      "CPU times: user 5min 23s, sys: 14.9 s, total: 5min 37s\n",
      "Wall time: 5min 29s\n"
     ]
    }
   ],
   "source": [
    "%time lda_model_ltrs_only = gensim.models.LdaModel(corpus_ltrs_only, id2word = dict_ltrs_only, num_topics = 100)"
   ]
  },
  {
   "cell_type": "code",
   "execution_count": 16,
   "metadata": {
    "collapsed": false,
    "scrolled": true
   },
   "outputs": [
    {
     "name": "stdout",
     "output_type": "stream",
     "text": [
      "--- topic #0 ---\n",
      "0.076 \t валя\n",
      "0.056 \t в\n",
      "0.041 \t на\n",
      "0.037 \t наверное\n",
      "0.025 \t разве\n",
      "0.021 \t и\n",
      "0.018 \t ответ\n",
      "0.018 \t легко\n",
      "0.017 \t я\n",
      "0.015 \t не\n",
      "\n",
      "--- topic #1 ---\n",
      "0.191 \t будет\n",
      "0.077 \t не\n",
      "0.066 \t ничего\n",
      "0.052 \t себе\n",
      "0.019 \t никогда\n",
      "0.018 \t плс\n",
      "0.017 \t такую\n",
      "0.015 \t одна\n",
      "0.013 \t я\n",
      "0.011 \t весело\n",
      "\n",
      "--- topic #2 ---\n",
      "0.132 \t какой\n",
      "0.099 \t че\n",
      "0.056 \t нравится\n",
      "0.049 \t эта\n",
      "0.045 \t именно\n",
      "0.021 \t написал\n",
      "0.019 \t лел\n",
      "0.017 \t не\n",
      "0.017 \t в\n",
      "0.014 \t говорит\n",
      "\n",
      "--- topic #3 ---\n",
      "0.178 \t тебе\n",
      "0.068 \t делать\n",
      "0.061 \t куда\n",
      "0.052 \t нахуй\n",
      "0.038 \t пошел\n",
      "0.034 \t сразу\n",
      "0.033 \t и\n",
      "0.032 \t мб\n",
      "0.02 \t моему\n",
      "0.015 \t мак\n",
      "\n",
      "--- topic #4 ---\n",
      "0.298 \t для\n",
      "0.075 \t хотя\n",
      "0.055 \t видел\n",
      "0.026 \t не\n",
      "0.02 \t и\n",
      "0.019 \t этому\n",
      "0.014 \t делают\n",
      "0.012 \t чтоли\n",
      "0.012 \t в\n",
      "0.011 \t я\n",
      "\n"
     ]
    }
   ],
   "source": [
    "print_n_topics(5, lda_model_ltrs_only, dict_ltrs_only)"
   ]
  },
  {
   "cell_type": "markdown",
   "metadata": {},
   "source": [
    "## 100 topics"
   ]
  },
  {
   "cell_type": "code",
   "execution_count": 31,
   "metadata": {
    "collapsed": false,
    "scrolled": false
   },
   "outputs": [
    {
     "name": "stdout",
     "output_type": "stream",
     "text": [
      "CPU times: user 5min 23s, sys: 14.6 s, total: 5min 37s\n",
      "Wall time: 5min 29s\n"
     ]
    }
   ],
   "source": [
    "%time lda_model_ltrs = gensim.models.LdaModel(corpus_ltrs_only, id2word = dict_ltrs_only, num_topics = 100)"
   ]
  },
  {
   "cell_type": "code",
   "execution_count": 32,
   "metadata": {
    "collapsed": false,
    "scrolled": false
   },
   "outputs": [
    {
     "name": "stdout",
     "output_type": "stream",
     "text": [
      "--- topic #0 ---\n",
      "0.192 \t в\n",
      "0.048 \t нравится\n",
      "0.029 \t збс\n",
      "0.024 \t игру\n",
      "0.02 \t чят\n",
      "0.017 \t итоге\n",
      "0.016 \t своим\n",
      "0.014 \t сделали\n",
      "0.013 \t серьезно\n",
      "0.011 \t английском\n",
      "\n",
      "--- topic #1 ---\n",
      "0.055 \t хуй\n",
      "0.049 \t первый\n",
      "0.036 \t на\n",
      "0.035 \t снова\n",
      "0.033 \t чуть\n",
      "0.027 \t и\n",
      "0.022 \t довольно\n",
      "0.016 \t работа\n",
      "0.012 \t не\n",
      "0.012 \t версии\n",
      "\n",
      "--- topic #2 ---\n",
      "0.077 \t их\n",
      "0.075 \t буду\n",
      "0.068 \t я\n",
      "0.052 \t не\n",
      "0.037 \t на\n",
      "0.036 \t понял\n",
      "0.032 \t нормально\n",
      "0.021 \t престолов\n",
      "0.019 \t капитан\n",
      "0.017 \t в\n",
      "\n",
      "--- topic #3 ---\n",
      "0.1 \t дома\n",
      "0.095 \t вас\n",
      "0.046 \t сука\n",
      "0.02 \t хороший\n",
      "0.018 \t делают\n",
      "0.013 \t надеюсь\n",
      "0.013 \t лето\n",
      "0.013 \t никого\n",
      "0.011 \t git\n",
      "0.011 \t юзал\n",
      "\n",
      "--- topic #4 ---\n",
      "0.162 \t будет\n",
      "0.154 \t норм\n",
      "0.039 \t в\n",
      "0.022 \t mid\n",
      "0.021 \t и\n",
      "0.018 \t офисе\n",
      "0.014 \t на\n",
      "0.012 \t не\n",
      "0.01 \t английский\n",
      "0.01 \t та\n",
      "\n"
     ]
    }
   ],
   "source": [
    "print_n_topics(5, lda_model_ltrs, dict_ltrs_only)"
   ]
  },
  {
   "cell_type": "markdown",
   "metadata": {},
   "source": [
    "## 20 topics"
   ]
  },
  {
   "cell_type": "code",
   "execution_count": 35,
   "metadata": {
    "collapsed": false,
    "scrolled": true
   },
   "outputs": [
    {
     "name": "stdout",
     "output_type": "stream",
     "text": [
      "CPU times: user 2min 1s, sys: 50.8 ms, total: 2min 1s\n",
      "Wall time: 2min 1s\n",
      "--- topic #0 ---\n",
      "0.015 \t после\n",
      "0.014 \t ничего\n",
      "0.013 \t работу\n",
      "0.013 \t з\n",
      "0.012 \t нравится\n",
      "0.011 \t ее\n",
      "0.011 \t всегда\n",
      "0.011 \t хуй\n",
      "0.01 \t эта\n",
      "0.01 \t минут\n",
      "\n",
      "--- topic #1 ---\n",
      "0.122 \t и\n",
      "0.078 \t все\n",
      "0.053 \t в\n",
      "0.025 \t не\n",
      "0.018 \t они\n",
      "0.017 \t без\n",
      "0.008 \t этом\n",
      "0.008 \t по\n",
      "0.008 \t время\n",
      "0.007 \t это\n",
      "\n",
      "--- topic #2 ---\n",
      "0.047 \t надо\n",
      "0.041 \t просто\n",
      "0.035 \t юра\n",
      "0.024 \t у\n",
      "0.023 \t не\n",
      "0.02 \t нас\n",
      "0.02 \t го\n",
      "0.016 \t на\n",
      "0.016 \t этот\n",
      "0.015 \t вас\n",
      "\n",
      "--- topic #3 ---\n",
      "0.067 \t или\n",
      "0.063 \t мне\n",
      "0.023 \t you\n",
      "0.016 \t не\n",
      "0.014 \t назад\n",
      "0.013 \t the\n",
      "0.013 \t лет\n",
      "0.011 \t люблю\n",
      "0.01 \t of\n",
      "0.009 \t на\n",
      "\n",
      "--- topic #4 ---\n",
      "0.158 \t да\n",
      "0.037 \t вообще\n",
      "0.035 \t до\n",
      "0.034 \t мы\n",
      "0.022 \t пока\n",
      "0.016 \t день\n",
      "0.011 \t каждый\n",
      "0.01 \t какие\n",
      "0.01 \t таки\n",
      "0.007 \t были\n",
      "\n"
     ]
    }
   ],
   "source": [
    "%time lda_model_ltrs = gensim.models.LdaModel(corpus_ltrs_only, id2word = dict_ltrs_only, num_topics = 20)\n",
    "\n",
    "print_n_topics(5, lda_model_ltrs, dict_ltrs_only)"
   ]
  },
  {
   "cell_type": "markdown",
   "metadata": {},
   "source": [
    "# No stopwords"
   ]
  },
  {
   "cell_type": "code",
   "execution_count": 17,
   "metadata": {
    "collapsed": false,
    "scrolled": true
   },
   "outputs": [
    {
     "data": {
      "text/plain": [
       "[['поздравляю'],\n",
       " ['последний', 'день'],\n",
       " ['отсюда'],\n",
       " ['уходишь'],\n",
       " ['х', 'т'],\n",
       " ['чо', 'хуйня'],\n",
       " ['н', 'л', 'т'],\n",
       " ['voiceru', 'bot', 'глупый', 'глупый'],\n",
       " ['неправильный', 'запрос', 'попробуй'],\n",
       " ['работает', 'inline', 'режиме']]"
      ]
     },
     "execution_count": 17,
     "metadata": {},
     "output_type": "execute_result"
    }
   ],
   "source": [
    "msgs_nosw = read_msgs(no_stopwords_msgs_file)\n",
    "msgs_nosw[:10]"
   ]
  },
  {
   "cell_type": "code",
   "execution_count": null,
   "metadata": {
    "collapsed": true
   },
   "outputs": [],
   "source": [
    "dict_nosw = gensim.corpora.Dictionary(msgs_nosw)\n",
    "dict_nosw.save(os.path.join(lda_folder, 'dict_nosw.dict'))\n",
    "\n",
    "corpus_nosw = [dict_nosw.doc2bow(msg) for msg in msgs_nosw]\n",
    "gensim.corpora.MmCorpus.serialize(os.path.join(lda_folder, 'corpus_nosw.mm'), corpus_nosw)"
   ]
  },
  {
   "cell_type": "markdown",
   "metadata": {},
   "source": [
    "## 100 topics"
   ]
  },
  {
   "cell_type": "code",
   "execution_count": 18,
   "metadata": {
    "collapsed": false,
    "scrolled": false
   },
   "outputs": [
    {
     "name": "stdout",
     "output_type": "stream",
     "text": [
      "CPU times: user 4min 57s, sys: 10.7 s, total: 5min 8s\n",
      "Wall time: 5min 4s\n"
     ]
    }
   ],
   "source": [
    "%time lda_model_nosw = gensim.models.LdaModel(corpus_nosw, id2word = dict_nosw, num_topics = 100)"
   ]
  },
  {
   "cell_type": "code",
   "execution_count": 19,
   "metadata": {
    "collapsed": false,
    "scrolled": true
   },
   "outputs": [
    {
     "name": "stdout",
     "output_type": "stream",
     "text": [
      "--- topic #0 ---\n",
      "0.031 \t серия\n",
      "0.019 \t банкоматы\n",
      "0.018 \t ru\n",
      "0.018 \t очевидно\n",
      "0.014 \t чему\n",
      "0.012 \t одним\n",
      "0.012 \t выберите\n",
      "0.011 \t названия\n",
      "0.011 \t ноуп\n",
      "0.011 \t мммм\n",
      "\n",
      "--- topic #1 ---\n",
      "0.108 \t дома\n",
      "0.063 \t this\n",
      "0.044 \t org\n",
      "0.041 \t chat\n",
      "0.04 \t in\n",
      "0.037 \t combot\n",
      "0.025 \t анус\n",
      "0.014 \t as\n",
      "0.014 \t лето\n",
      "0.012 \t нашли\n",
      "\n",
      "--- topic #2 ---\n",
      "0.132 \t бля\n",
      "0.039 \t самое\n",
      "0.034 \t ночью\n",
      "0.03 \t престолов\n",
      "0.027 \t моему\n",
      "0.021 \t заебись\n",
      "0.019 \t говорил\n",
      "0.018 \t является\n",
      "0.018 \t случайно\n",
      "0.013 \t интересное\n",
      "\n",
      "--- topic #3 ---\n",
      "0.255 \t просто\n",
      "0.048 \t первый\n",
      "0.047 \t сука\n",
      "0.025 \t сказал\n",
      "0.017 \t момент\n",
      "0.016 \t хром\n",
      "0.016 \t выходит\n",
      "0.015 \t коде\n",
      "0.015 \t топ\n",
      "0.013 \t пишут\n",
      "\n",
      "--- topic #4 ---\n",
      "0.053 \t й\n",
      "0.031 \t откуда\n",
      "0.021 \t окей\n",
      "0.02 \t ибо\n",
      "0.019 \t куча\n",
      "0.016 \t сидеть\n",
      "0.015 \t git\n",
      "0.014 \t админы\n",
      "0.014 \t тип\n",
      "0.013 \t искать\n",
      "\n"
     ]
    }
   ],
   "source": [
    "print_n_topics(5, lda_model_nosw, dict_nosw)"
   ]
  },
  {
   "cell_type": "markdown",
   "metadata": {},
   "source": [
    "## 20 topics"
   ]
  },
  {
   "cell_type": "code",
   "execution_count": 29,
   "metadata": {
    "collapsed": false,
    "scrolled": false
   },
   "outputs": [
    {
     "name": "stdout",
     "output_type": "stream",
     "text": [
      "CPU times: user 1min 38s, sys: 39.6 ms, total: 1min 38s\n",
      "Wall time: 1min 38s\n"
     ]
    }
   ],
   "source": [
    "%time lda_model_nosw = gensim.models.LdaModel(corpus_nosw, id2word = dict_nosw, num_topics = 20)"
   ]
  },
  {
   "cell_type": "code",
   "execution_count": 30,
   "metadata": {
    "collapsed": false,
    "scrolled": true
   },
   "outputs": [
    {
     "name": "stdout",
     "output_type": "stream",
     "text": [
      "--- topic #0 ---\n",
      "0.014 \t сколько\n",
      "0.014 \t стоит\n",
      "0.013 \t работает\n",
      "0.009 \t новый\n",
      "0.009 \t обычно\n",
      "0.009 \t сразу\n",
      "0.007 \t говорят\n",
      "0.006 \t ю\n",
      "0.006 \t мог\n",
      "0.006 \t отделения\n",
      "\n",
      "--- topic #1 ---\n",
      "0.033 \t i\n",
      "0.024 \t you\n",
      "0.021 \t блин\n",
      "0.019 \t пиздец\n",
      "0.015 \t интересно\n",
      "0.013 \t t\n",
      "0.012 \t me\n",
      "0.012 \t of\n",
      "0.012 \t this\n",
      "0.01 \t looking\n",
      "\n",
      "--- topic #2 ---\n",
      "0.048 \t норм\n",
      "0.046 \t тебе\n",
      "0.016 \t огонь\n",
      "0.011 \t дела\n",
      "0.01 \t хочешь\n",
      "0.01 \t играть\n",
      "0.008 \t мб\n",
      "0.008 \t пару\n",
      "0.007 \t х\n",
      "0.007 \t иди\n",
      "\n",
      "--- topic #3 ---\n",
      "0.196 \t это\n",
      "0.028 \t ок\n",
      "0.016 \t делать\n",
      "0.015 \t прям\n",
      "0.015 \t щас\n",
      "0.014 \t говно\n",
      "0.014 \t видел\n",
      "0.01 \t спать\n",
      "0.01 \t фу\n",
      "0.01 \t играл\n",
      "\n",
      "--- topic #4 ---\n",
      "0.027 \t d\n",
      "0.017 \t назад\n",
      "0.011 \t видео\n",
      "0.01 \t js\n",
      "0.009 \t int\n",
      "0.009 \t й\n",
      "0.009 \t способ\n",
      "0.009 \t можешь\n",
      "0.009 \t телеграм\n",
      "0.008 \t наверное\n",
      "\n"
     ]
    }
   ],
   "source": [
    "print_n_topics(5, lda_model_nosw, dict_nosw)"
   ]
  },
  {
   "cell_type": "markdown",
   "metadata": {},
   "source": [
    "# Normalized, no stopwords"
   ]
  },
  {
   "cell_type": "code",
   "execution_count": 20,
   "metadata": {
    "collapsed": false,
    "scrolled": false
   },
   "outputs": [
    {
     "data": {
      "text/plain": [
       "[['поздравлять'],\n",
       " ['последний', 'день'],\n",
       " ['отсюда'],\n",
       " ['уходить'],\n",
       " ['х', 'том'],\n",
       " ['чо', 'хуйня'],\n",
       " ['наш', 'литр', 'том'],\n",
       " ['voiceru', 'bot', 'глупый', 'глупый'],\n",
       " ['неправильный', 'запрос', 'попробовать'],\n",
       " ['работать', 'inline', 'режим']]"
      ]
     },
     "execution_count": 20,
     "metadata": {},
     "output_type": "execute_result"
    }
   ],
   "source": [
    "msgs_nosw_norm = read_msgs(normalized_no_stopwords_msgs_file)\n",
    "\n",
    "msgs_nosw_norm[:10]"
   ]
  },
  {
   "cell_type": "code",
   "execution_count": 21,
   "metadata": {
    "collapsed": true,
    "scrolled": true
   },
   "outputs": [],
   "source": [
    "dict_nosw_norm = gensim.corpora.Dictionary(msgs_nosw_norm)\n",
    "dict_nosw_norm.save(os.path.join(lda_folder, 'dict_nosw_norm.dict'))"
   ]
  },
  {
   "cell_type": "code",
   "execution_count": 22,
   "metadata": {
    "collapsed": true,
    "scrolled": true
   },
   "outputs": [],
   "source": [
    "corpus_nosw_norm = [dict_nosw_norm.doc2bow(msg) for msg in msgs_nosw_norm]\n",
    "gensim.corpora.MmCorpus.serialize(os.path.join(lda_folder, 'corpus_nosw_norm.mm'), corpus_nosw_norm)"
   ]
  },
  {
   "cell_type": "markdown",
   "metadata": {},
   "source": [
    "## 100 topics"
   ]
  },
  {
   "cell_type": "code",
   "execution_count": 23,
   "metadata": {
    "collapsed": false,
    "scrolled": true
   },
   "outputs": [
    {
     "name": "stdout",
     "output_type": "stream",
     "text": [
      "CPU times: user 4min, sys: 3.84 s, total: 4min 4s\n",
      "Wall time: 4min 1s\n"
     ]
    }
   ],
   "source": [
    "%time lda_model_nosw_norm = gensim.models.LdaModel(corpus_nosw_norm, id2word = dict_nosw_norm, num_topics = 100)"
   ]
  },
  {
   "cell_type": "code",
   "execution_count": 24,
   "metadata": {
    "collapsed": false,
    "scrolled": true
   },
   "outputs": [
    {
     "name": "stdout",
     "output_type": "stream",
     "text": [
      "--- topic #0 ---\n",
      "0.113 \t нужно\n",
      "0.059 \t массив\n",
      "0.032 \t пожалуйста\n",
      "0.023 \t string\n",
      "0.022 \t format\n",
      "0.021 \t заказывать\n",
      "0.021 \t com\n",
      "0.021 \t пакет\n",
      "0.019 \t добавлять\n",
      "0.017 \t надеяться\n",
      "\n",
      "--- topic #1 ---\n",
      "0.07 \t неделя\n",
      "0.06 \t том\n",
      "0.051 \t зайти\n",
      "0.05 \t ночь\n",
      "0.039 \t мы\n",
      "0.038 \t х\n",
      "0.034 \t спокойный\n",
      "0.031 \t сложный\n",
      "0.031 \t начинать\n",
      "0.03 \t живой\n",
      "\n",
      "--- topic #2 ---\n",
      "0.12 \t тимофей\n",
      "0.098 \t фильм\n",
      "0.053 \t ранний\n",
      "0.052 \t рука\n",
      "0.042 \t искать\n",
      "0.028 \t сезон\n",
      "0.028 \t мыло\n",
      "0.027 \t эх\n",
      "0.026 \t москва\n",
      "0.019 \t советовать\n",
      "\n",
      "--- topic #3 ---\n",
      "0.079 \t вчера\n",
      "0.07 \t картинка\n",
      "0.048 \t мало\n",
      "0.041 \t вода\n",
      "0.041 \t сериал\n",
      "0.039 \t приложение\n",
      "0.024 \t смешной\n",
      "0.023 \t возможно\n",
      "0.018 \t помочь\n",
      "0.017 \t оказываться\n",
      "\n",
      "--- topic #4 ---\n",
      "0.06 \t строка\n",
      "0.054 \t крутой\n",
      "0.051 \t проект\n",
      "0.043 \t бывать\n",
      "0.027 \t кек\n",
      "0.024 \t ошибка\n",
      "0.023 \t сниться\n",
      "0.022 \t слак\n",
      "0.022 \t устроить\n",
      "0.018 \t one\n",
      "\n"
     ]
    }
   ],
   "source": [
    "print_n_topics(5, lda_model_nosw_norm, dict_nosw_norm)"
   ]
  },
  {
   "cell_type": "markdown",
   "metadata": {},
   "source": [
    "## 20 topics"
   ]
  },
  {
   "cell_type": "code",
   "execution_count": 25,
   "metadata": {
    "collapsed": false
   },
   "outputs": [
    {
     "name": "stdout",
     "output_type": "stream",
     "text": [
      "CPU times: user 1min 22s, sys: 21.6 ms, total: 1min 22s\n",
      "Wall time: 1min 22s\n"
     ]
    }
   ],
   "source": [
    "%time lda_model_20_nosw_norm = gensim.models.LdaModel(corpus_nosw_norm, id2word = dict_nosw_norm, num_topics = 20)"
   ]
  },
  {
   "cell_type": "code",
   "execution_count": 26,
   "metadata": {
    "collapsed": false,
    "scrolled": false
   },
   "outputs": [],
   "source": [
    "# print_n_topics(20, lda_model_20_nosw_norm, dict_nosw_norm)"
   ]
  },
  {
   "cell_type": "code",
   "execution_count": 27,
   "metadata": {
    "collapsed": false,
    "scrolled": false
   },
   "outputs": [
    {
     "name": "stdout",
     "output_type": "stream",
     "text": [
      "--- topic #0 ---\n",
      "0.032 \t пока\n",
      "0.02 \t твой\n",
      "0.019 \t вчера\n",
      "0.014 \t привет\n",
      "0.012 \t телефон\n",
      "0.012 \t туда\n",
      "0.012 \t sorry\n",
      "0.012 \t сук\n",
      "0.011 \t ночь\n",
      "0.011 \t тикета\n",
      "\n",
      "--- topic #1 ---\n",
      "0.195 \t это\n",
      "0.046 \t просто\n",
      "0.037 \t год\n",
      "0.028 \t писать\n",
      "0.016 \t a\n",
      "0.015 \t утро\n",
      "0.015 \t говно\n",
      "0.014 \t назад\n",
      "0.013 \t добрый\n",
      "0.01 \t месяц\n",
      "\n",
      "--- topic #2 ---\n",
      "0.051 \t один\n",
      "0.049 \t хз\n",
      "0.021 \t бот\n",
      "0.019 \t слушать\n",
      "0.014 \t метро\n",
      "0.014 \t неделя\n",
      "0.014 \t ой\n",
      "0.013 \t пятница\n",
      "0.012 \t друг\n",
      "0.012 \t охуенно\n",
      "\n",
      "--- topic #3 ---\n",
      "0.042 \t человек\n",
      "0.035 \t кстати\n",
      "0.034 \t дать\n",
      "0.027 \t нормальный\n",
      "0.026 \t самый\n",
      "0.023 \t хотя\n",
      "0.023 \t каждый\n",
      "0.02 \t тим\n",
      "0.02 \t говорить\n",
      "0.019 \t б\n",
      "\n",
      "--- topic #4 ---\n",
      "0.072 \t такой\n",
      "0.032 \t идти\n",
      "0.026 \t го\n",
      "0.024 \t че\n",
      "0.023 \t блин\n",
      "0.022 \t сидеть\n",
      "0.02 \t нужно\n",
      "0.019 \t e\n",
      "0.018 \t огонь\n",
      "0.016 \t нахуй\n",
      "\n"
     ]
    }
   ],
   "source": [
    "print_n_topics(5, lda_model_20_nosw_norm, dict_nosw_norm)"
   ]
  },
  {
   "cell_type": "code",
   "execution_count": null,
   "metadata": {
    "collapsed": true,
    "scrolled": true
   },
   "outputs": [],
   "source": []
  }
 ],
 "metadata": {
  "kernelspec": {
   "display_name": "Python [default]",
   "language": "python",
   "name": "python3"
  },
  "language_info": {
   "codemirror_mode": {
    "name": "ipython",
    "version": 3
   },
   "file_extension": ".py",
   "mimetype": "text/x-python",
   "name": "python",
   "nbconvert_exporter": "python",
   "pygments_lexer": "ipython3",
   "version": "3.5.2"
  }
 },
 "nbformat": 4,
 "nbformat_minor": 1
}
