{
 "cells": [
  {
   "cell_type": "code",
   "execution_count": 1,
   "metadata": {
    "collapsed": true,
    "scrolled": true
   },
   "outputs": [],
   "source": [
    "import os"
   ]
  },
  {
   "cell_type": "code",
   "execution_count": 2,
   "metadata": {
    "collapsed": false,
    "scrolled": false
   },
   "outputs": [
    {
     "name": "stderr",
     "output_type": "stream",
     "text": [
      "/usr/local/lib/python3.5/site-packages/gensim/utils.py:1015: UserWarning: Pattern library is not installed, lemmatization won't be available.\n",
      "  warnings.warn(\"Pattern library is not installed, lemmatization won't be available.\")\n"
     ]
    }
   ],
   "source": [
    "import gensim"
   ]
  },
  {
   "cell_type": "code",
   "execution_count": 3,
   "metadata": {
    "collapsed": true
   },
   "outputs": [],
   "source": [
    "# data_folder = os.path.join('data', '00_dec')\n",
    "data_folder = os.path.join('data', '17_dec')"
   ]
  },
  {
   "cell_type": "code",
   "execution_count": 4,
   "metadata": {
    "collapsed": true
   },
   "outputs": [],
   "source": [
    "lda_folder = 'lda_files'"
   ]
  },
  {
   "cell_type": "code",
   "execution_count": 5,
   "metadata": {
    "collapsed": false,
    "scrolled": true
   },
   "outputs": [],
   "source": [
    "# raw_log_file = os.path.join(data_folder, 'log_dratuti.txt')\n",
    "clean_log_file = os.path.join(data_folder, 'clean_log_dratuti.txt')\n",
    "raw_msgs_file = os.path.join(data_folder, 'raw_msgs.txt')\n",
    "ltrs_only_msgs_file = os.path.join(data_folder, 'ltrs_only_msgs.txt')\n",
    "no_stopwords_msgs_file = os.path.join(data_folder, 'no_stopwords_msgs.txt')\n",
    "normalized_no_stopwords_msgs_file = os.path.join(data_folder, 'normalized_no_stopwords_msgs.txt')"
   ]
  },
  {
   "cell_type": "code",
   "execution_count": 6,
   "metadata": {
    "collapsed": true,
    "scrolled": true
   },
   "outputs": [],
   "source": [
    "def read_msgs(filename):\n",
    "    with open(filename) as lf:\n",
    "        msgs = [line.split() for line in lf.readlines()]\n",
    "    return msgs"
   ]
  },
  {
   "cell_type": "code",
   "execution_count": 7,
   "metadata": {
    "collapsed": false,
    "scrolled": true
   },
   "outputs": [],
   "source": [
    "def get_topic_words(topic_id, model, dictionary):\n",
    "    print('--- topic #{} ---'.format(topic_id))\n",
    "    for word_id, prob in model.get_topic_terms(topic_id):\n",
    "        print(round(prob, 3), '\\t', dictionary.get(word_id))"
   ]
  },
  {
   "cell_type": "code",
   "execution_count": 8,
   "metadata": {
    "collapsed": false,
    "scrolled": true
   },
   "outputs": [],
   "source": [
    "def print_n_topics(n, model, dictionary):\n",
    "    for topic_id in range(n):\n",
    "        get_topic_words(topic_id, model, dictionary)\n",
    "        print()"
   ]
  },
  {
   "cell_type": "markdown",
   "metadata": {},
   "source": [
    "# Just messages"
   ]
  },
  {
   "cell_type": "code",
   "execution_count": 9,
   "metadata": {
    "collapsed": false,
    "scrolled": true
   },
   "outputs": [
    {
     "data": {
      "text/plain": [
       "[['поздравляю'],\n",
       " ['последний', 'день'],\n",
       " ['отсюда'],\n",
       " ['куда'],\n",
       " ['уже', 'не', 'уходишь'],\n",
       " ['х', 'у', 'и', 'т', 'а'],\n",
       " ['чо', 'за', 'хуйня'],\n",
       " ['а', 'н', 'а', 'л', 'и', 'т', 'и', 'к', 'а'],\n",
       " ['voiceru', 'bot', 'глупый', 'глупый'],\n",
       " ['неправильный', 'запрос', 'попробуй', 'еще', 'раз']]"
      ]
     },
     "execution_count": 9,
     "metadata": {},
     "output_type": "execute_result"
    }
   ],
   "source": [
    "msgs = read_msgs(ltrs_only_msgs_file)\n",
    "msgs[:10]"
   ]
  },
  {
   "cell_type": "code",
   "execution_count": 11,
   "metadata": {
    "collapsed": false,
    "scrolled": true
   },
   "outputs": [],
   "source": [
    "dict_ltrs_only = gensim.corpora.Dictionary(msgs)\n",
    "dict_ltrs_only.save(os.path.join(lda_folder, 'dict_msgs_ltrs_only.dict'))\n",
    "\n",
    "corpus_ltrs_only = [dict_ltrs_only.doc2bow(msg) for msg in msgs]\n",
    "gensim.corpora.MmCorpus.serialize(os.path.join(lda_folder, 'corpus_ltrs_only.mm'), corpus_ltrs_only)"
   ]
  },
  {
   "cell_type": "code",
   "execution_count": 12,
   "metadata": {
    "collapsed": false,
    "scrolled": true
   },
   "outputs": [
    {
     "name": "stdout",
     "output_type": "stream",
     "text": [
      "CPU times: user 4min 31s, sys: 13 s, total: 4min 44s\n",
      "Wall time: 5min 20s\n"
     ]
    }
   ],
   "source": [
    "%time lda_model_ltrs_only = gensim.models.LdaModel(corpus_ltrs_only, id2word = dict_ltrs_only, num_topics = 100)"
   ]
  },
  {
   "cell_type": "code",
   "execution_count": 13,
   "metadata": {
    "collapsed": false,
    "scrolled": false
   },
   "outputs": [
    {
     "name": "stdout",
     "output_type": "stream",
     "text": [
      "--- topic #0 ---\n",
      "0.1 \t d\n",
      "0.066 \t в\n",
      "0.061 \t смотреть\n",
      "0.051 \t вам\n",
      "0.043 \t весь\n",
      "0.029 \t не\n",
      "0.028 \t понятно\n",
      "0.021 \t нашел\n",
      "0.02 \t я\n",
      "0.016 \t умеет\n",
      "\n",
      "--- topic #1 ---\n",
      "0.038 \t нужен\n",
      "0.037 \t key\n",
      "0.025 \t других\n",
      "0.017 \t китайцы\n",
      "0.015 \t живешь\n",
      "0.013 \t надеюсь\n",
      "0.013 \t затем\n",
      "0.013 \t никого\n",
      "0.012 \t need\n",
      "0.012 \t не\n",
      "\n",
      "--- topic #2 ---\n",
      "0.282 \t но\n",
      "0.231 \t нет\n",
      "0.038 \t не\n",
      "0.037 \t сейчас\n",
      "0.032 \t них\n",
      "0.024 \t в\n",
      "0.024 \t на\n",
      "0.019 \t правильно\n",
      "0.013 \t у\n",
      "0.011 \t и\n",
      "\n",
      "--- topic #3 ---\n",
      "0.263 \t у\n",
      "0.087 \t нас\n",
      "0.029 \t в\n",
      "0.027 \t давай\n",
      "0.016 \t часто\n",
      "0.014 \t на\n",
      "0.013 \t делают\n",
      "0.012 \t является\n",
      "0.011 \t стали\n",
      "0.011 \t случайно\n",
      "\n",
      "--- topic #4 ---\n",
      "0.067 \t при\n",
      "0.054 \t в\n",
      "0.05 \t и\n",
      "0.032 \t домой\n",
      "0.029 \t раньше\n",
      "0.028 \t я\n",
      "0.025 \t часть\n",
      "0.021 \t офисе\n",
      "0.02 \t на\n",
      "0.018 \t взять\n",
      "\n"
     ]
    }
   ],
   "source": [
    "print_n_topics(5, lda_model_ltrs_only, dict_ltrs_only)"
   ]
  },
  {
   "cell_type": "markdown",
   "metadata": {},
   "source": [
    "# No stopwords"
   ]
  },
  {
   "cell_type": "code",
   "execution_count": 14,
   "metadata": {
    "collapsed": false,
    "scrolled": true
   },
   "outputs": [
    {
     "data": {
      "text/plain": [
       "[['поздравляю'],\n",
       " ['последний', 'день'],\n",
       " ['отсюда'],\n",
       " ['уходишь'],\n",
       " ['х', 'т'],\n",
       " ['чо', 'хуйня'],\n",
       " ['н', 'л', 'т'],\n",
       " ['voiceru', 'bot', 'глупый', 'глупый'],\n",
       " ['неправильный', 'запрос', 'попробуй'],\n",
       " ['работает', 'inline', 'режиме']]"
      ]
     },
     "execution_count": 14,
     "metadata": {},
     "output_type": "execute_result"
    }
   ],
   "source": [
    "msgs_nosw = read_msgs(no_stopwords_msgs_file)\n",
    "msgs_nosw[:10]"
   ]
  },
  {
   "cell_type": "code",
   "execution_count": 16,
   "metadata": {
    "collapsed": false,
    "scrolled": false
   },
   "outputs": [
    {
     "name": "stdout",
     "output_type": "stream",
     "text": [
      "CPU times: user 3min 59s, sys: 11 s, total: 4min 10s\n",
      "Wall time: 4min 19s\n"
     ]
    }
   ],
   "source": [
    "dict_nosw = gensim.corpora.Dictionary(msgs_nosw)\n",
    "dict_nosw.save(os.path.join(lda_folder, 'dict_nosw.dict'))\n",
    "\n",
    "corpus_nosw = [dict_nosw.doc2bow(msg) for msg in msgs_nosw]\n",
    "gensim.corpora.MmCorpus.serialize(os.path.join(lda_folder, 'corpus_nosw.mm'), corpus_nosw)\n",
    "\n",
    "%time lda_model_nosw = gensim.models.LdaModel(corpus_nosw, id2word = dict_nosw, num_topics = 100)"
   ]
  },
  {
   "cell_type": "code",
   "execution_count": 17,
   "metadata": {
    "collapsed": false,
    "scrolled": false
   },
   "outputs": [
    {
     "name": "stdout",
     "output_type": "stream",
     "text": [
      "--- topic #0 ---\n",
      "0.029 \t свое\n",
      "0.025 \t понравилось\n",
      "0.022 \t вернуться\n",
      "0.019 \t мыло\n",
      "0.018 \t пробовал\n",
      "0.017 \t сказать\n",
      "0.016 \t вариант\n",
      "0.015 \t глаза\n",
      "0.014 \t вперед\n",
      "0.012 \t браузере\n",
      "\n",
      "--- topic #1 ---\n",
      "0.041 \t человек\n",
      "0.035 \t нормальный\n",
      "0.025 \t умеет\n",
      "0.023 \t наоборот\n",
      "0.022 \t мозг\n",
      "0.018 \t крутой\n",
      "0.017 \t та\n",
      "0.015 \t квартиру\n",
      "0.013 \t обычные\n",
      "0.01 \t явно\n",
      "\n",
      "--- topic #2 ---\n",
      "0.13 \t знаю\n",
      "0.088 \t спасибо\n",
      "0.084 \t код\n",
      "0.049 \t чат\n",
      "0.034 \t пусть\n",
      "0.027 \t штука\n",
      "0.017 \t пришел\n",
      "0.015 \t голову\n",
      "0.012 \t сидишь\n",
      "0.009 \t делала\n",
      "\n",
      "--- topic #3 ---\n",
      "0.131 \t завтра\n",
      "0.069 \t сколько\n",
      "0.046 \t короче\n",
      "0.033 \t курсе\n",
      "0.017 \t фотки\n",
      "0.017 \t китайцы\n",
      "0.017 \t сайте\n",
      "0.017 \t жду\n",
      "0.016 \t вставать\n",
      "0.015 \t моей\n",
      "\n",
      "--- topic #4 ---\n",
      "0.044 \t вечером\n",
      "0.028 \t утром\n",
      "0.025 \t хочет\n",
      "0.022 \t разные\n",
      "0.019 \t погода\n",
      "0.019 \t месте\n",
      "0.019 \t ня\n",
      "0.015 \t оба\n",
      "0.013 \t статья\n",
      "0.013 \t можете\n",
      "\n"
     ]
    }
   ],
   "source": [
    "print_n_topics(5, lda_model_nosw, dict_nosw)"
   ]
  },
  {
   "cell_type": "markdown",
   "metadata": {},
   "source": [
    "# Normalized, no stopwords"
   ]
  },
  {
   "cell_type": "code",
   "execution_count": 18,
   "metadata": {
    "collapsed": false,
    "scrolled": false
   },
   "outputs": [
    {
     "data": {
      "text/plain": [
       "[['поздравлять'],\n",
       " ['последний', 'день'],\n",
       " ['отсюда'],\n",
       " ['уходить'],\n",
       " ['х', 'том'],\n",
       " ['чо', 'хуйня'],\n",
       " ['наш', 'литр', 'том'],\n",
       " ['voiceru', 'bot', 'глупый', 'глупый'],\n",
       " ['неправильный', 'запрос', 'попробовать'],\n",
       " ['работать', 'inline', 'режим']]"
      ]
     },
     "execution_count": 18,
     "metadata": {},
     "output_type": "execute_result"
    }
   ],
   "source": [
    "msgs_nosw_norm = read_msgs(normalized_no_stopwords_msgs_file)\n",
    "\n",
    "msgs_nosw_norm[:10]"
   ]
  },
  {
   "cell_type": "code",
   "execution_count": 19,
   "metadata": {
    "collapsed": true,
    "scrolled": true
   },
   "outputs": [],
   "source": [
    "dict_nosw_norm = gensim.corpora.Dictionary(msgs_nosw_norm)\n",
    "dict_nosw_norm.save(os.path.join(lda_folder, 'dict_nosw_norm.dict'))"
   ]
  },
  {
   "cell_type": "code",
   "execution_count": 20,
   "metadata": {
    "collapsed": true,
    "scrolled": true
   },
   "outputs": [],
   "source": [
    "corpus_nosw_norm = [dict_nosw_norm.doc2bow(msg) for msg in msgs_nosw_norm]\n",
    "gensim.corpora.MmCorpus.serialize(os.path.join(lda_folder, 'corpus_nosw_norm.mm'), corpus_nosw_norm)"
   ]
  },
  {
   "cell_type": "markdown",
   "metadata": {},
   "source": [
    "## 100 topics"
   ]
  },
  {
   "cell_type": "code",
   "execution_count": 21,
   "metadata": {
    "collapsed": false,
    "scrolled": true
   },
   "outputs": [
    {
     "name": "stdout",
     "output_type": "stream",
     "text": [
      "CPU times: user 3min 5s, sys: 5.86 s, total: 3min 10s\n",
      "Wall time: 3min 15s\n"
     ]
    }
   ],
   "source": [
    "%time lda_model_nosw_norm = gensim.models.LdaModel(corpus_nosw_norm, id2word = dict_nosw_norm, num_topics = 100)"
   ]
  },
  {
   "cell_type": "code",
   "execution_count": 22,
   "metadata": {
    "collapsed": false,
    "scrolled": false
   },
   "outputs": [
    {
     "name": "stdout",
     "output_type": "stream",
     "text": [
      "--- topic #0 ---\n",
      "0.074 \t кот\n",
      "0.063 \t вид\n",
      "0.061 \t хм\n",
      "0.057 \t часть\n",
      "0.043 \t кидать\n",
      "0.033 \t вместо\n",
      "0.027 \t вызывать\n",
      "0.022 \t проверить\n",
      "0.021 \t получиться\n",
      "0.021 \t fuck\n",
      "\n",
      "--- topic #1 ---\n",
      "0.052 \t прийти\n",
      "0.048 \t хром\n",
      "0.044 \t х\n",
      "0.041 \t придумать\n",
      "0.04 \t группа\n",
      "0.017 \t ситуация\n",
      "0.017 \t эт\n",
      "0.016 \t ход\n",
      "0.016 \t ра\n",
      "0.016 \t точный\n",
      "\n",
      "--- topic #2 ---\n",
      "0.123 \t понять\n",
      "0.053 \t спс\n",
      "0.049 \t бар\n",
      "0.048 \t ммм\n",
      "0.04 \t заходить\n",
      "0.035 \t ездить\n",
      "0.032 \t куча\n",
      "0.022 \t ошибка\n",
      "0.022 \t универ\n",
      "0.018 \t начальник\n",
      "\n",
      "--- topic #3 ---\n",
      "0.139 \t дом\n",
      "0.081 \t стоить\n",
      "0.074 \t жить\n",
      "0.058 \t часы\n",
      "0.049 \t запретить\n",
      "0.042 \t анус\n",
      "0.039 \t поход\n",
      "0.034 \t ставить\n",
      "0.025 \t полный\n",
      "0.021 \t нода\n",
      "\n",
      "--- topic #4 ---\n",
      "0.094 \t брать\n",
      "0.081 \t отпуск\n",
      "0.078 \t иметь\n",
      "0.057 \t жаль\n",
      "0.035 \t обед\n",
      "0.016 \t допустить\n",
      "0.014 \t ввиду\n",
      "0.014 \t робот\n",
      "0.013 \t хобби\n",
      "0.013 \t рисовать\n",
      "\n"
     ]
    }
   ],
   "source": [
    "print_n_topics(5, lda_model_nosw_norm, dict_nosw_norm)"
   ]
  },
  {
   "cell_type": "markdown",
   "metadata": {},
   "source": [
    "## 20 topics"
   ]
  },
  {
   "cell_type": "code",
   "execution_count": 23,
   "metadata": {
    "collapsed": false
   },
   "outputs": [
    {
     "name": "stdout",
     "output_type": "stream",
     "text": [
      "CPU times: user 1min 15s, sys: 2.43 s, total: 1min 17s\n",
      "Wall time: 1min 19s\n"
     ]
    }
   ],
   "source": [
    "%time lda_model_20_nosw_norm = gensim.models.LdaModel(corpus_nosw_norm, id2word = dict_nosw_norm, num_topics = 20)"
   ]
  },
  {
   "cell_type": "code",
   "execution_count": 25,
   "metadata": {
    "collapsed": false,
    "scrolled": false
   },
   "outputs": [],
   "source": [
    "# print_n_topics(20, lda_model_20_nosw_norm, dict_nosw_norm)"
   ]
  },
  {
   "cell_type": "code",
   "execution_count": 26,
   "metadata": {
    "collapsed": false,
    "scrolled": false
   },
   "outputs": [
    {
     "name": "stdout",
     "output_type": "stream",
     "text": [
      "--- topic #0 ---\n",
      "0.035 \t идти\n",
      "0.033 \t почему\n",
      "0.029 \t сделать\n",
      "0.027 \t посмотреть\n",
      "0.025 \t че\n",
      "0.025 \t блин\n",
      "0.02 \t тим\n",
      "0.018 \t what\n",
      "0.015 \t чот\n",
      "0.015 \t большой\n",
      "\n",
      "--- topic #1 ---\n",
      "0.067 \t такой\n",
      "0.051 \t просто\n",
      "0.04 \t весь\n",
      "0.021 \t хотя\n",
      "0.02 \t говно\n",
      "0.02 \t дело\n",
      "0.018 \t ладный\n",
      "0.016 \t прям\n",
      "0.012 \t штука\n",
      "0.011 \t всякий\n",
      "\n",
      "--- topic #2 ---\n",
      "0.065 \t вообще\n",
      "0.047 \t чо\n",
      "0.028 \t нормальный\n",
      "0.025 \t игра\n",
      "0.012 \t способ\n",
      "0.011 \t например\n",
      "0.011 \t общий\n",
      "0.011 \t уметь\n",
      "0.009 \t кроме\n",
      "0.009 \t слабак\n",
      "\n",
      "--- topic #3 ---\n",
      "0.032 \t пока\n",
      "0.024 \t понять\n",
      "0.023 \t нужный\n",
      "0.021 \t обслуживать\n",
      "0.018 \t читать\n",
      "0.018 \t место\n",
      "0.017 \t сайт\n",
      "0.016 \t метро\n",
      "0.015 \t пара\n",
      "0.015 \t вобщий\n",
      "\n",
      "--- topic #4 ---\n",
      "0.05 \t норма\n",
      "0.039 \t работать\n",
      "0.037 \t пойти\n",
      "0.034 \t думать\n",
      "0.033 \t писать\n",
      "0.026 \t завтра\n",
      "0.021 \t этот\n",
      "0.021 \t бот\n",
      "0.02 \t сказать\n",
      "0.02 \t другой\n",
      "\n"
     ]
    }
   ],
   "source": [
    "print_n_topics(5, lda_model_20_nosw_norm, dict_nosw_norm)"
   ]
  },
  {
   "cell_type": "code",
   "execution_count": null,
   "metadata": {
    "collapsed": true,
    "scrolled": true
   },
   "outputs": [],
   "source": []
  }
 ],
 "metadata": {
  "kernelspec": {
   "display_name": "Python 3",
   "language": "python",
   "name": "python3"
  },
  "language_info": {
   "codemirror_mode": {
    "name": "ipython",
    "version": 3
   },
   "file_extension": ".py",
   "mimetype": "text/x-python",
   "name": "python",
   "nbconvert_exporter": "python",
   "pygments_lexer": "ipython3",
   "version": "3.5.2"
  }
 },
 "nbformat": 4,
 "nbformat_minor": 1
}
